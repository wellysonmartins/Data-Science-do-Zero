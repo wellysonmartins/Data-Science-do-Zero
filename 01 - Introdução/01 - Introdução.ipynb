{
 "cells": [
  {
   "cell_type": "code",
   "execution_count": 1,
   "metadata": {},
   "outputs": [],
   "source": [
    "users = [{ \"id\": 0, \"name\": \"Hero\" },\n",
    "         { \"id\": 1, \"name\": \"Dunn\" },\n",
    "         { \"id\": 2, \"name\": \"Sue\" },\n",
    "         { \"id\": 3, \"name\": \"Chi\" },\n",
    "         { \"id\": 4, \"name\": \"Thor\" },\n",
    "         { \"id\": 5, \"name\": \"Clive\" },\n",
    "         { \"id\": 6, \"name\": \"Hicks\" },\n",
    "         { \"id\": 7, \"name\": \"Devin\" },\n",
    "         { \"id\": 8, \"name\": \"Kate\" },\n",
    "         { \"id\": 9, \"name\": \"Klein\" },\n",
    "        ]"
   ]
  },
  {
   "cell_type": "code",
   "execution_count": 2,
   "metadata": {},
   "outputs": [
    {
     "data": {
      "text/plain": [
       "[{'id': 0, 'name': 'Hero'},\n",
       " {'id': 1, 'name': 'Dunn'},\n",
       " {'id': 2, 'name': 'Sue'},\n",
       " {'id': 3, 'name': 'Chi'}]"
      ]
     },
     "execution_count": 2,
     "metadata": {},
     "output_type": "execute_result"
    }
   ],
   "source": [
    "users[0:4]"
   ]
  },
  {
   "cell_type": "code",
   "execution_count": 3,
   "metadata": {},
   "outputs": [],
   "source": [
    "friendships = [(0, 1), (0, 2), (1, 2), (1, 3), (2, 3), (3, 4),\n",
    "               (4, 5), (5, 6), (5, 7), (6, 8), (7, 8), (8, 9)]"
   ]
  },
  {
   "cell_type": "code",
   "execution_count": 4,
   "metadata": {},
   "outputs": [],
   "source": [
    "for user in users:\n",
    "    user[\"friends\"] = []"
   ]
  },
  {
   "cell_type": "code",
   "execution_count": 5,
   "metadata": {},
   "outputs": [],
   "source": [
    "for i, j in friendships:\n",
    "    # isso funciona porque users[i] é o usuário cuja id é i\n",
    "    users[i][\"friends\"].append(users[j]) # adiciona i como um amigo de j\n",
    "    users[j][\"friends\"].append(users[i]) # adiciona j como um amigo de i"
   ]
  },
  {
   "cell_type": "code",
   "execution_count": 6,
   "metadata": {},
   "outputs": [],
   "source": [
    "def number_of_friends(user):\n",
    "    \"\"\"quantos amigos o usuários tem?\"\"\"\n",
    "    return len(user[\"friends\"]) # tamanho da lista friends_ids\n",
    "\n",
    "total_connections = sum(number_of_friends(user)\n",
    "                        for user in users)"
   ]
  },
  {
   "cell_type": "code",
   "execution_count": 7,
   "metadata": {},
   "outputs": [
    {
     "data": {
      "text/plain": [
       "24"
      ]
     },
     "execution_count": 7,
     "metadata": {},
     "output_type": "execute_result"
    }
   ],
   "source": [
    "total_connections"
   ]
  },
  {
   "cell_type": "code",
   "execution_count": 8,
   "metadata": {},
   "outputs": [],
   "source": [
    "from __future__ import division\n",
    "num_users = len(users)\n",
    "avg_connections = total_connections / num_users"
   ]
  },
  {
   "cell_type": "code",
   "execution_count": 9,
   "metadata": {},
   "outputs": [],
   "source": [
    "# cria uma lista (user_id, number_of_friends)\n",
    "num_friends_by_id = [(user[\"id\"], number_of_friends(user))\n",
    "                     for user in users]"
   ]
  },
  {
   "cell_type": "code",
   "execution_count": null,
   "metadata": {},
   "outputs": [],
   "source": []
  }
 ],
 "metadata": {
  "kernelspec": {
   "display_name": "Python 3",
   "language": "python",
   "name": "python3"
  },
  "language_info": {
   "codemirror_mode": {
    "name": "ipython",
    "version": 3
   },
   "file_extension": ".py",
   "mimetype": "text/x-python",
   "name": "python",
   "nbconvert_exporter": "python",
   "pygments_lexer": "ipython3",
   "version": "3.6.8"
  }
 },
 "nbformat": 4,
 "nbformat_minor": 2
}
